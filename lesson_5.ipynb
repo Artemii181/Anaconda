{
 "cells": [
  {
   "cell_type": "code",
   "execution_count": 28,
   "metadata": {},
   "outputs": [
    {
     "name": "stdout",
     "output_type": "stream",
     "text": [
      "\n",
      "красное\n",
      "\n",
      "красное\n",
      "\n",
      "красное\n",
      "\n",
      "красное\n",
      "\n",
      "красное\n",
      "\n",
      "красное\n",
      "\n",
      "красное\n",
      "\n",
      "zero\n",
      "\n",
      "красное\n",
      "\n",
      "zero\n"
     ]
    }
   ],
   "source": [
    "#1\n",
    "%matplotlib inline\n",
    "import numpy as np\n",
    "\n",
    "\n",
    "for i in range(0, 10):\n",
    "    a = input()\n",
    "    x = np.random.uniform(0, 7)\n",
    "    if x>1<3:\n",
    "        print(\"красное\")\n",
    "    elif x<1:\n",
    "        print('zero')\n",
    "    else:\n",
    "        print(\"черное\")"
   ]
  },
  {
   "cell_type": "code",
   "execution_count": 54,
   "metadata": {
    "scrolled": true
   },
   "outputs": [
    {
     "data": {
      "text/plain": [
       "Text(0.5, 1.0, 'Histogram')"
      ]
     },
     "execution_count": 54,
     "metadata": {},
     "output_type": "execute_result"
    },
    {
     "data": {
      "image/png": "[encoded data removed]",
      "text/plain": [
       "<Figure size 432x288 with 1 Axes>"
      ]
     },
     "metadata": {
      "needs_background": "light"
     },
     "output_type": "display_data"
    }
   ],
   "source": [
    "#2.2\n",
    "import matplotlib.pyplot as plt\n",
    "import matplotlib.mlab as mlab\n",
    "\n",
    "x = np.random.randint(9)\n",
    "num_bins = 10\n",
    "\n",
    "n, bins, patches = plt.hist(x, num_bins)\n",
    "plt.xlabel('x')\n",
    "plt.ylabel('Probability')\n",
    "plt.title('Histogram')\n",
    "\n",
    "import numpy as np\n",
    "import itertools"
   ]
  },
  {
   "cell_type": "code",
   "execution_count": 69,
   "metadata": {},
   "outputs": [
    {
     "name": "stdout",
     "output_type": "stream",
     "text": [
      "()\n",
      "[1 4 1 0 1]\n"
     ]
    }
   ],
   "source": [
    "import numpy as np\n",
    "import itertools\n",
    "# (n, k) * p**k * (1-p)**(n-k)\n",
    "\n",
    "k, n = 1, 5\n",
    "p = 1\n",
    "a = np.random.randint(0, 3, n)\n",
    "b = np.random.randint(0, 3, n)\n",
    "c = np.random.randint(0, 3, n)\n",
    "d = np.random.randint(0, 3, n)\n",
    "x = a + b + c + d\n",
    "for i in range(0, n):\n",
    "    if x[i] == 3:\n",
    "        k = k + 1\n",
    "print((n, k) * p**k * (1-p)**(n-k))\n",
    "print(x)\n",
    "# print(k, n, n/k)\n",
    "\n"
   ]
  },
  {
   "cell_type": "code",
   "execution_count": 71,
   "metadata": {},
   "outputs": [
    {
     "name": "stdout",
     "output_type": "stream",
     "text": [
      "000\n",
      "001\n",
      "010\n",
      "011\n",
      "100\n",
      "101\n",
      "110\n",
      "111\n"
     ]
    }
   ],
   "source": [
    "for a in itertools.product('01',repeat=3):\n",
    "    print(\"\".join(a))"
   ]
  },
  {
   "cell_type": "code",
   "execution_count": 78,
   "metadata": {},
   "outputs": [
    {
     "name": "stdout",
     "output_type": "stream",
     "text": [
      "0102\n",
      "0120\n",
      "0012\n",
      "0021\n",
      "0210\n",
      "0201\n",
      "1002\n",
      "1020\n",
      "1002\n",
      "1020\n",
      "1200\n",
      "1200\n",
      "0012\n",
      "0021\n",
      "0102\n",
      "0120\n",
      "0201\n",
      "0210\n",
      "2010\n",
      "2001\n",
      "2100\n",
      "2100\n",
      "2001\n",
      "2010\n"
     ]
    }
   ],
   "source": [
    "for a in itertools.permutations('0102', 4):\n",
    "    print(\"\".join(str(x) for x in a))"
   ]
  },
  {
   "cell_type": "code",
   "execution_count": 79,
   "metadata": {},
   "outputs": [
    {
     "name": "stdout",
     "output_type": "stream",
     "text": [
      "01\n",
      "00\n",
      "02\n",
      "10\n",
      "12\n",
      "02\n"
     ]
    }
   ],
   "source": [
    "for a in itertools.combinations('0102', 2):\n",
    "    print(\"\".join(a))"
   ]
  },
  {
   "cell_type": "code",
   "execution_count": 82,
   "metadata": {},
   "outputs": [
    {
     "name": "stdout",
     "output_type": "stream",
     "text": [
      "00\n",
      "01\n",
      "10\n",
      "11\n"
     ]
    }
   ],
   "source": [
    "for a in itertools.product('01',repeat=2):\n",
    "    print(\"\".join(a))"
   ]
  },
  {
   "cell_type": "code",
   "execution_count": null,
   "metadata": {},
   "outputs": [],
   "source": []
  }
 ],
 "metadata": {
  "kernelspec": {
   "display_name": "Python 3",
   "language": "python",
   "name": "python3"
  },
  "language_info": {
   "codemirror_mode": {
    "name": "ipython",
    "version": 3
   },
   "file_extension": ".py",
   "mimetype": "text/x-python",
   "name": "python",
   "nbconvert_exporter": "python",
   "pygments_lexer": "ipython3",
   "version": "3.8.3"
  }
 },
 "nbformat": 4,
 "nbformat_minor": 4
}
